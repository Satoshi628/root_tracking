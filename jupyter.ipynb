{
 "cells": [
  {
   "cell_type": "code",
   "execution_count": null,
   "metadata": {},
   "outputs": [],
   "source": [
    "#----- Standard Library -----#\n",
    "import os\n",
    "import math\n",
    "\n",
    "#----- Public Package -----#\n",
    "from tqdm import tqdm\n",
    "import numpy as np\n",
    "import cv2\n",
    "import torch\n",
    "from torch.cuda.amp import autocast\n",
    "from PIL import Image\n",
    "from IPython.display import display\n",
    "\n",
    "#----- Module -----#\n",
    "from models.Unet_3D import UNet_3D\n",
    "from utils.dataset import data_info\n",
    "from utils.visual import VisualizationTrajectory\n",
    "from utils.Coord2TrackKalman import Coord2TrackKalman, global_association_solver, TrackInterpolate"
   ]
  },
  {
   "cell_type": "code",
   "execution_count": null,
   "metadata": {},
   "outputs": [],
   "source": [
    "video_path = \"/mnt/kamiya/dataset/root/data/sample1/2x_sample1.avi\""
   ]
  },
  {
   "cell_type": "code",
   "execution_count": null,
   "metadata": {},
   "outputs": [],
   "source": [
    "\n",
    "# GPUモードの設定\n",
    "if not torch.cuda.is_available():\n",
    "    print(\"GPUモードにしてください。\")\n",
    "device = torch.device('cuda:1')\n"
   ]
  },
  {
   "cell_type": "code",
   "execution_count": null,
   "metadata": {},
   "outputs": [],
   "source": [
    "param_dict = {\n",
    "    \"detection_th\": 0.3, #検出の閾値(0~1)。高いほど厳しく判定\n",
    "    \"speed_upper1\":11.77, #1フレーム間での成長スピードの上限\n",
    "    \"speed_upper2\":11.77, #2フレーム間での成長スピードの上限\n",
    "    \"init_speed\":[0., 11.77], #初期速度[x, y].根っこの初期速度ではなく、最初に追跡するとき根っこがどこに移動するか\n",
    "    \"speed_range\":[0.8, 1.2], #現在のスピードで移動しうる範囲。下限:現在のスピード*0.8、上限:現在のスピード*1.2など\n",
    "    \"angle\":10, #成長する上限角度、弧度法。10度のとき左右5度の範囲に絞る\n",
    "    \"appearance_frame\": 5., #根っこが初めて出現するフレーム\n",
    "    \"speed_lower\": 0.3, #1フレーム間での成長速度の下限。ノイズか根っこかの判断のために使用\n",
    "}"
   ]
  },
  {
   "cell_type": "code",
   "execution_count": null,
   "metadata": {},
   "outputs": [],
   "source": [
    "\n",
    "model = UNet_3D(in_channels=3,\n",
    "                noise_strength=param_dict[\"detection_th\"],\n",
    "                n_classes=1,\n",
    "                delay_upsample=0).cuda(device)\n",
    "\n",
    "model_path = \"models/model.pth\"\n",
    "model.load_state_dict(torch.load(model_path))\n",
    "model.eval()\n",
    "print(\"モデルロード成功\")"
   ]
  },
  {
   "cell_type": "code",
   "execution_count": null,
   "metadata": {},
   "outputs": [],
   "source": [
    "# 動画取得\n",
    "video_length, last_image, test_loader = data_info(video_path)\n",
    "# init setting\n",
    "tracks = []\n",
    "\n",
    "tracker = Coord2TrackKalman(move_speed=[param_dict[\"speed_upper1\"], param_dict[\"speed_upper2\"]], init_move=param_dict[\"init_speed\"])\n",
    "\n",
    "# tracker.update([torch.empty([0, 3])])\n",
    "with torch.no_grad():\n",
    "    for batch_idx, inputs in tqdm(enumerate(test_loader), total=math.ceil(video_length/16), leave=False):\n",
    "        # inputs.shape = [1, 3, H, W]\n",
    "        inputs = inputs.cuda(device, non_blocking=True)\n",
    "        with autocast():\n",
    "            _, coord = model.get_coord(inputs)\n",
    "        tracker.update(coord)\n",
    "\n",
    "tracks = tracker(video_length, delay=1) #.cpu().numpy()\n",
    "tracks = global_association_solver(tracks, param_dict)\n",
    "tracks = TrackInterpolate(tracks)\n",
    "\n",
    "\n",
    "np.savetxt(f\"track.txt\", tracks, delimiter=',', fmt=[\"%d\", \"%d\", \"%.2f\", \"%.2f\"])"
   ]
  },
  {
   "cell_type": "code",
   "execution_count": null,
   "metadata": {},
   "outputs": [],
   "source": [
    "track_img = VisualizationTrajectory(last_image, tracks)\n",
    "track_img = cv2.cvtColor(track_img, cv2.COLOR_BGR2RGB)\n",
    "track_img = Image.fromarray(track_img)\n",
    "display(track_img)"
   ]
  }
 ],
 "metadata": {
  "kernelspec": {
   "display_name": "Python 3.7.10 64-bit ('conda': virtualenv)",
   "metadata": {
    "interpreter": {
     "hash": "98b0a9b7b4eaaa670588a142fd0a9b87eaafe866f1db4228be72b4211d12040f"
    }
   },
   "name": "python3"
  },
  "language_info": {
   "codemirror_mode": {
    "name": "ipython",
    "version": 3
   },
   "file_extension": ".py",
   "mimetype": "text/x-python",
   "name": "python",
   "nbconvert_exporter": "python",
   "pygments_lexer": "ipython3",
   "version": "3.7.10"
  },
  "orig_nbformat": 2
 },
 "nbformat": 4,
 "nbformat_minor": 2
}